{
  "nbformat": 4,
  "nbformat_minor": 0,
  "metadata": {
    "colab": {
      "provenance": [],
      "authorship_tag": "ABX9TyPtRY3xKP9Vb7wWwGmyhNWk"
    },
    "kernelspec": {
      "name": "python3",
      "display_name": "Python 3"
    },
    "language_info": {
      "name": "python"
    }
  },
  "cells": [
    {
      "cell_type": "markdown",
      "source": [
        "# **Treinar e avaliar um modelo de clustering**"
      ],
      "metadata": {
        "id": "_WvqH2sWw2oN"
      }
    },
    {
      "cell_type": "code",
      "execution_count": 5,
      "metadata": {
        "colab": {
          "base_uri": "https://localhost:8080/",
          "height": 554
        },
        "id": "F2gFEWL6wwfa",
        "outputId": "d589e3ac-f3fc-4258-b077-5ce77fe285fe"
      },
      "outputs": [
        {
          "output_type": "stream",
          "name": "stdout",
          "text": [
            "--2022-11-08 01:05:52--  https://raw.githubusercontent.com/MicrosoftDocs/mslearn-introduction-to-machine-learning/main/Data/ml-basics/seeds.csv\n",
            "Resolving raw.githubusercontent.com (raw.githubusercontent.com)... 185.199.108.133, 185.199.109.133, 185.199.110.133, ...\n",
            "Connecting to raw.githubusercontent.com (raw.githubusercontent.com)|185.199.108.133|:443... connected.\n",
            "HTTP request sent, awaiting response... 200 OK\n",
            "Length: 9386 (9.2K) [text/plain]\n",
            "Saving to: ‘seeds.csv.1’\n",
            "\n",
            "\rseeds.csv.1           0%[                    ]       0  --.-KB/s               \rseeds.csv.1         100%[===================>]   9.17K  --.-KB/s    in 0s      \n",
            "\n",
            "2022-11-08 01:05:52 (73.8 MB/s) - ‘seeds.csv.1’ saved [9386/9386]\n",
            "\n"
          ]
        },
        {
          "output_type": "execute_result",
          "data": {
            "text/plain": [
              "      area  perimeter  compactness  kernel_length  kernel_width  \\\n",
              "157  12.13      13.73       0.8081          5.394         2.745   \n",
              "209  12.30      13.34       0.8684          5.243         2.974   \n",
              "205  12.19      13.20       0.8783          5.137         2.981   \n",
              "106  18.85      16.17       0.9056          6.152         3.806   \n",
              "136  17.36      15.76       0.8785          6.145         3.574   \n",
              "165  12.10      13.15       0.8793          5.105         2.941   \n",
              "204  12.37      13.47       0.8567          5.204         2.960   \n",
              "176  11.26      13.01       0.8355          5.186         2.710   \n",
              "177  10.74      12.73       0.8329          5.145         2.642   \n",
              "175  10.80      12.57       0.8590          4.981         2.821   \n",
              "\n",
              "     asymmetry_coefficient  \n",
              "157                  4.825  \n",
              "209                  5.637  \n",
              "205                  3.631  \n",
              "106                  2.843  \n",
              "136                  3.526  \n",
              "165                  2.201  \n",
              "204                  3.919  \n",
              "176                  5.335  \n",
              "177                  4.702  \n",
              "175                  4.773  "
            ],
            "text/html": [
              "\n",
              "  <div id=\"df-38883594-4824-4540-b31a-c9005a7531b5\">\n",
              "    <div class=\"colab-df-container\">\n",
              "      <div>\n",
              "<style scoped>\n",
              "    .dataframe tbody tr th:only-of-type {\n",
              "        vertical-align: middle;\n",
              "    }\n",
              "\n",
              "    .dataframe tbody tr th {\n",
              "        vertical-align: top;\n",
              "    }\n",
              "\n",
              "    .dataframe thead th {\n",
              "        text-align: right;\n",
              "    }\n",
              "</style>\n",
              "<table border=\"1\" class=\"dataframe\">\n",
              "  <thead>\n",
              "    <tr style=\"text-align: right;\">\n",
              "      <th></th>\n",
              "      <th>area</th>\n",
              "      <th>perimeter</th>\n",
              "      <th>compactness</th>\n",
              "      <th>kernel_length</th>\n",
              "      <th>kernel_width</th>\n",
              "      <th>asymmetry_coefficient</th>\n",
              "    </tr>\n",
              "  </thead>\n",
              "  <tbody>\n",
              "    <tr>\n",
              "      <th>157</th>\n",
              "      <td>12.13</td>\n",
              "      <td>13.73</td>\n",
              "      <td>0.8081</td>\n",
              "      <td>5.394</td>\n",
              "      <td>2.745</td>\n",
              "      <td>4.825</td>\n",
              "    </tr>\n",
              "    <tr>\n",
              "      <th>209</th>\n",
              "      <td>12.30</td>\n",
              "      <td>13.34</td>\n",
              "      <td>0.8684</td>\n",
              "      <td>5.243</td>\n",
              "      <td>2.974</td>\n",
              "      <td>5.637</td>\n",
              "    </tr>\n",
              "    <tr>\n",
              "      <th>205</th>\n",
              "      <td>12.19</td>\n",
              "      <td>13.20</td>\n",
              "      <td>0.8783</td>\n",
              "      <td>5.137</td>\n",
              "      <td>2.981</td>\n",
              "      <td>3.631</td>\n",
              "    </tr>\n",
              "    <tr>\n",
              "      <th>106</th>\n",
              "      <td>18.85</td>\n",
              "      <td>16.17</td>\n",
              "      <td>0.9056</td>\n",
              "      <td>6.152</td>\n",
              "      <td>3.806</td>\n",
              "      <td>2.843</td>\n",
              "    </tr>\n",
              "    <tr>\n",
              "      <th>136</th>\n",
              "      <td>17.36</td>\n",
              "      <td>15.76</td>\n",
              "      <td>0.8785</td>\n",
              "      <td>6.145</td>\n",
              "      <td>3.574</td>\n",
              "      <td>3.526</td>\n",
              "    </tr>\n",
              "    <tr>\n",
              "      <th>165</th>\n",
              "      <td>12.10</td>\n",
              "      <td>13.15</td>\n",
              "      <td>0.8793</td>\n",
              "      <td>5.105</td>\n",
              "      <td>2.941</td>\n",
              "      <td>2.201</td>\n",
              "    </tr>\n",
              "    <tr>\n",
              "      <th>204</th>\n",
              "      <td>12.37</td>\n",
              "      <td>13.47</td>\n",
              "      <td>0.8567</td>\n",
              "      <td>5.204</td>\n",
              "      <td>2.960</td>\n",
              "      <td>3.919</td>\n",
              "    </tr>\n",
              "    <tr>\n",
              "      <th>176</th>\n",
              "      <td>11.26</td>\n",
              "      <td>13.01</td>\n",
              "      <td>0.8355</td>\n",
              "      <td>5.186</td>\n",
              "      <td>2.710</td>\n",
              "      <td>5.335</td>\n",
              "    </tr>\n",
              "    <tr>\n",
              "      <th>177</th>\n",
              "      <td>10.74</td>\n",
              "      <td>12.73</td>\n",
              "      <td>0.8329</td>\n",
              "      <td>5.145</td>\n",
              "      <td>2.642</td>\n",
              "      <td>4.702</td>\n",
              "    </tr>\n",
              "    <tr>\n",
              "      <th>175</th>\n",
              "      <td>10.80</td>\n",
              "      <td>12.57</td>\n",
              "      <td>0.8590</td>\n",
              "      <td>4.981</td>\n",
              "      <td>2.821</td>\n",
              "      <td>4.773</td>\n",
              "    </tr>\n",
              "  </tbody>\n",
              "</table>\n",
              "</div>\n",
              "      <button class=\"colab-df-convert\" onclick=\"convertToInteractive('df-38883594-4824-4540-b31a-c9005a7531b5')\"\n",
              "              title=\"Convert this dataframe to an interactive table.\"\n",
              "              style=\"display:none;\">\n",
              "        \n",
              "  <svg xmlns=\"http://www.w3.org/2000/svg\" height=\"24px\"viewBox=\"0 0 24 24\"\n",
              "       width=\"24px\">\n",
              "    <path d=\"M0 0h24v24H0V0z\" fill=\"none\"/>\n",
              "    <path d=\"M18.56 5.44l.94 2.06.94-2.06 2.06-.94-2.06-.94-.94-2.06-.94 2.06-2.06.94zm-11 1L8.5 8.5l.94-2.06 2.06-.94-2.06-.94L8.5 2.5l-.94 2.06-2.06.94zm10 10l.94 2.06.94-2.06 2.06-.94-2.06-.94-.94-2.06-.94 2.06-2.06.94z\"/><path d=\"M17.41 7.96l-1.37-1.37c-.4-.4-.92-.59-1.43-.59-.52 0-1.04.2-1.43.59L10.3 9.45l-7.72 7.72c-.78.78-.78 2.05 0 2.83L4 21.41c.39.39.9.59 1.41.59.51 0 1.02-.2 1.41-.59l7.78-7.78 2.81-2.81c.8-.78.8-2.07 0-2.86zM5.41 20L4 18.59l7.72-7.72 1.47 1.35L5.41 20z\"/>\n",
              "  </svg>\n",
              "      </button>\n",
              "      \n",
              "  <style>\n",
              "    .colab-df-container {\n",
              "      display:flex;\n",
              "      flex-wrap:wrap;\n",
              "      gap: 12px;\n",
              "    }\n",
              "\n",
              "    .colab-df-convert {\n",
              "      background-color: #E8F0FE;\n",
              "      border: none;\n",
              "      border-radius: 50%;\n",
              "      cursor: pointer;\n",
              "      display: none;\n",
              "      fill: #1967D2;\n",
              "      height: 32px;\n",
              "      padding: 0 0 0 0;\n",
              "      width: 32px;\n",
              "    }\n",
              "\n",
              "    .colab-df-convert:hover {\n",
              "      background-color: #E2EBFA;\n",
              "      box-shadow: 0px 1px 2px rgba(60, 64, 67, 0.3), 0px 1px 3px 1px rgba(60, 64, 67, 0.15);\n",
              "      fill: #174EA6;\n",
              "    }\n",
              "\n",
              "    [theme=dark] .colab-df-convert {\n",
              "      background-color: #3B4455;\n",
              "      fill: #D2E3FC;\n",
              "    }\n",
              "\n",
              "    [theme=dark] .colab-df-convert:hover {\n",
              "      background-color: #434B5C;\n",
              "      box-shadow: 0px 1px 3px 1px rgba(0, 0, 0, 0.15);\n",
              "      filter: drop-shadow(0px 1px 2px rgba(0, 0, 0, 0.3));\n",
              "      fill: #FFFFFF;\n",
              "    }\n",
              "  </style>\n",
              "\n",
              "      <script>\n",
              "        const buttonEl =\n",
              "          document.querySelector('#df-38883594-4824-4540-b31a-c9005a7531b5 button.colab-df-convert');\n",
              "        buttonEl.style.display =\n",
              "          google.colab.kernel.accessAllowed ? 'block' : 'none';\n",
              "\n",
              "        async function convertToInteractive(key) {\n",
              "          const element = document.querySelector('#df-38883594-4824-4540-b31a-c9005a7531b5');\n",
              "          const dataTable =\n",
              "            await google.colab.kernel.invokeFunction('convertToInteractive',\n",
              "                                                     [key], {});\n",
              "          if (!dataTable) return;\n",
              "\n",
              "          const docLinkHtml = 'Like what you see? Visit the ' +\n",
              "            '<a target=\"_blank\" href=https://colab.research.google.com/notebooks/data_table.ipynb>data table notebook</a>'\n",
              "            + ' to learn more about interactive tables.';\n",
              "          element.innerHTML = '';\n",
              "          dataTable['output_type'] = 'display_data';\n",
              "          await google.colab.output.renderOutput(dataTable, element);\n",
              "          const docLink = document.createElement('div');\n",
              "          docLink.innerHTML = docLinkHtml;\n",
              "          element.appendChild(docLink);\n",
              "        }\n",
              "      </script>\n",
              "    </div>\n",
              "  </div>\n",
              "  "
            ]
          },
          "metadata": {},
          "execution_count": 5
        }
      ],
      "source": [
        "import pandas as pd\n",
        "\n",
        "# load the training dataset\n",
        "!wget https://raw.githubusercontent.com/MicrosoftDocs/mslearn-introduction-to-machine-learning/main/Data/ml-basics/seeds.csv\n",
        "data = pd.read_csv('seeds.csv')\n",
        "\n",
        "# Display a random sample of 10 observations (just the features)\n",
        "features = data[data.columns[0:6]]\n",
        "features.sample(10)"
      ]
    },
    {
      "cell_type": "code",
      "source": [
        "from sklearn.preprocessing import MinMaxScaler\n",
        "from sklearn.decomposition import PCA\n",
        "\n",
        "# Normalize the numeric features so they're on the same scale\n",
        "scaled_features = MinMaxScaler().fit_transform(features[data.columns[0:6]])\n",
        "\n",
        "# Get two principal components\n",
        "pca = PCA(n_components=2).fit(scaled_features)\n",
        "features_2d = pca.transform(scaled_features)\n",
        "features_2d[0:10]"
      ],
      "metadata": {
        "colab": {
          "base_uri": "https://localhost:8080/"
        },
        "id": "X9nYAcQpxF-1",
        "outputId": "17bb4234-4ae5-401e-a26e-60c581a534f6"
      },
      "execution_count": 6,
      "outputs": [
        {
          "output_type": "execute_result",
          "data": {
            "text/plain": [
              "array([[ 0.11883593, -0.09382469],\n",
              "       [ 0.0696878 , -0.31077233],\n",
              "       [-0.03499184, -0.37044705],\n",
              "       [-0.06582089, -0.36365235],\n",
              "       [ 0.32594892, -0.37695797],\n",
              "       [-0.02455447, -0.31060184],\n",
              "       [-0.00769646, -0.07594931],\n",
              "       [-0.05646955, -0.26696284],\n",
              "       [ 0.38196305, -0.05149471],\n",
              "       [ 0.35701044, -0.17697998]])"
            ]
          },
          "metadata": {},
          "execution_count": 6
        }
      ]
    },
    {
      "cell_type": "code",
      "source": [
        "import matplotlib.pyplot as plt\n",
        "\n",
        "%matplotlib inline\n",
        "\n",
        "plt.scatter(features_2d[:,0],features_2d[:,1])\n",
        "plt.xlabel('Dimension 1')\n",
        "plt.ylabel('Dimension 2')\n",
        "plt.title('Data')\n",
        "plt.show()"
      ],
      "metadata": {
        "colab": {
          "base_uri": "https://localhost:8080/",
          "height": 295
        },
        "id": "QLEqOTscxGBS",
        "outputId": "8219fa48-3704-452f-f211-e87b119a0997"
      },
      "execution_count": 7,
      "outputs": [
        {
          "output_type": "display_data",
          "data": {
            "text/plain": [
              "<Figure size 432x288 with 1 Axes>"
            ],
            "image/png": "[encoded data removed]"
          },
          "metadata": {
            "needs_background": "light"
          }
        }
      ]
    },
    {
      "cell_type": "code",
      "source": [
        "#importing the libraries\n",
        "import numpy as np\n",
        "import matplotlib.pyplot as plt\n",
        "from sklearn.cluster import KMeans\n",
        "%matplotlib inline\n",
        "\n",
        "# Create 10 models with 1 to 10 clusters\n",
        "wcss = []\n",
        "for i in range(1, 11):\n",
        "    kmeans = KMeans(n_clusters = i)\n",
        "    # Fit the data points\n",
        "    kmeans.fit(features.values)\n",
        "    # Get the WCSS (inertia) value\n",
        "    wcss.append(kmeans.inertia_)\n",
        "    \n",
        "#Plot the WCSS values onto a line graph\n",
        "plt.plot(range(1, 11), wcss)\n",
        "plt.title('WCSS by Clusters')\n",
        "plt.xlabel('Number of clusters')\n",
        "plt.ylabel('WCSS')\n",
        "plt.show()"
      ],
      "metadata": {
        "colab": {
          "base_uri": "https://localhost:8080/",
          "height": 295
        },
        "id": "R0S3tMBdxGDj",
        "outputId": "a1c6ca09-9665-4b30-da72-8d4bfdba7a3c"
      },
      "execution_count": 8,
      "outputs": [
        {
          "output_type": "display_data",
          "data": {
            "text/plain": [
              "<Figure size 432x288 with 1 Axes>"
            ],
            "image/png": "[encoded data removed]"
          },
          "metadata": {
            "needs_background": "light"
          }
        }
      ]
    }
  ]
}